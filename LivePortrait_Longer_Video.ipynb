{
  "nbformat": 4,
  "nbformat_minor": 0,
  "metadata": {
    "colab": {
      "provenance": [],
      "gpuType": "T4"
    },
    "kernelspec": {
      "name": "python3",
      "display_name": "Python 3"
    },
    "language_info": {
      "name": "python"
    },
    "accelerator": "GPU"
  },
  "cells": [
    {
      "cell_type": "markdown",
      "source": [
        "\n",
        "[LivePortrait GitHub](https://github.com/KwaiVGI/LivePortrait) <br>\n",
        "[Hugging Face Model Card](https://huggingface.co/KwaiVGI/LivePortrait/tree/main)<br>\n",
        "[Hugging Face Space](https://huggingface.co/spaces/KwaiVGI/LivePortrait)\n",
        "\n"
      ],
      "metadata": {
        "id": "f4W0M0BttMxU"
      }
    },
    {
      "cell_type": "code",
      "execution_count": null,
      "metadata": {
        "cellView": "form",
        "id": "BQ3HdjgBsevq"
      },
      "outputs": [],
      "source": [
        "#@title Mount Google Drive for larger Video Input (It will create a folder Inside Google Drive called ```upload```. Then Upload your Video and Image in this folder.)\n",
        "from IPython.display import clear_output\n",
        "%cd /content/\n",
        "from google.colab import drive\n",
        "import os\n",
        "import shutil\n",
        "drive.mount('/content/gdrive', force_remount=True)\n",
        "%cd /content/gdrive/MyDrive/\n",
        "!mkdir upload\n",
        "clear_output()"
      ]
    },
    {
      "cell_type": "code",
      "source": [
        "#@title Download Pretrained Weights and Install Packages\n",
        "%cd /content/\n",
        "!rm -rf ./LivePortrait\n",
        "!git clone https://github.com/KwaiVGI/LivePortrait.git\n",
        "\n",
        "from tqdm import tqdm\n",
        "import urllib\n",
        "import os\n",
        "import shutil\n",
        "def conditional_download(url, download_file_path):\n",
        "    print(f\"Downloading {os.path.basename(download_file_path)}\")\n",
        "    base_path = os.path.dirname(download_file_path)\n",
        "\n",
        "    if not os.path.exists(base_path):\n",
        "        os.makedirs(base_path)\n",
        "\n",
        "    if os.path.exists(download_file_path):\n",
        "        os.remove(download_file_path)\n",
        "\n",
        "    try:\n",
        "        request = urllib.request.urlopen(url)  # type: ignore[attr-defined]\n",
        "        total = int(request.headers.get('Content-Length', 0))\n",
        "    except urllib.error.URLError as e:\n",
        "        print(f\"Error: Unable to open the URL - {url}\")\n",
        "        print(f\"Reason: {e.reason}\")\n",
        "        return\n",
        "\n",
        "    with tqdm(total=total, desc='Downloading', unit='B', unit_scale=True, unit_divisor=1024) as progress:\n",
        "        try:\n",
        "            urllib.request.urlretrieve(url, download_file_path, reporthook=lambda count, block_size, total_size: progress.update(block_size))  # type: ignore[attr-defined]\n",
        "        except urllib.error.URLError as e:\n",
        "            print(f\"Error: Failed to download the file from the URL - {url}\")\n",
        "            print(f\"Reason: {e.reason}\")\n",
        "            return\n",
        "\n",
        "    print(f\"Download successful!\")\n",
        "    print(f\"URL: {url}\")\n",
        "    print(f\"Save at: {download_file_path}\")\n",
        "\n",
        "\n",
        "\n",
        "\n",
        "def download_models(base_path):\n",
        "    # Function to download files\n",
        "    def download_files(file_list, relative_path, base_url):\n",
        "        for file_name in file_list:\n",
        "            download_file_path = f\"{base_path}/{relative_path}/{file_name}\"\n",
        "            conditional_download(f\"{base_url}/{file_name}\", download_file_path)\n",
        "\n",
        "    # Define file lists and paths\n",
        "    buffalo_l_files = [\"2d106det.onnx\", \"det_10g.onnx\"]\n",
        "    buffalo_l_path = \"LivePortrait/pretrained_weights/insightface/models/buffalo_l\"\n",
        "    buffalo_l_url = \"https://huggingface.co/KwaiVGI/LivePortrait/resolve/main/insightface/models/buffalo_l\"\n",
        "\n",
        "    base_models_files = [\n",
        "        'appearance_feature_extractor.pth',\n",
        "        'motion_extractor.pth',\n",
        "        'spade_generator.pth',\n",
        "        'warping_module.pth'\n",
        "    ]\n",
        "    base_models_path = \"LivePortrait/pretrained_weights/liveportrait/base_models\"\n",
        "    base_models_url = \"https://huggingface.co/KwaiVGI/LivePortrait/resolve/main/liveportrait/base_models\"\n",
        "\n",
        "    retargeting_models_files = ['stitching_retargeting_module.pth']\n",
        "    retargeting_models_path = \"LivePortrait/pretrained_weights/liveportrait/retargeting_models\"\n",
        "    retargeting_models_url = \"https://huggingface.co/KwaiVGI/LivePortrait/resolve/main/liveportrait/retargeting_models\"\n",
        "\n",
        "    landmark_file = [\"landmark.onnx\"]\n",
        "    landmark_path = \"LivePortrait/pretrained_weights/liveportrait\"\n",
        "    landmark_url = \"https://huggingface.co/KwaiVGI/LivePortrait/resolve/main/liveportrait\"\n",
        "\n",
        "    # Download files\n",
        "    download_files(buffalo_l_files, buffalo_l_path, buffalo_l_url)\n",
        "    download_files(base_models_files, base_models_path, base_models_url)\n",
        "    download_files(retargeting_models_files, retargeting_models_path, retargeting_models_url)\n",
        "    download_files(landmark_file, landmark_path, landmark_url)\n",
        "\n",
        "#set up base_path\n",
        "import os\n",
        "root_path=os.getcwd()\n",
        "# root_path=\"/content\"\n",
        "base_path=f\"{root_path}\"\n",
        "#download model\n",
        "download_models(base_path)\n",
        "os.chdir(f\"{base_path}/LivePortrait\")\n",
        "!pip install -r requirements.txt\n",
        "from IPython.display import clear_output\n",
        "clear_output()"
      ],
      "metadata": {
        "cellView": "form",
        "id": "-6I75p1ctB8C"
      },
      "execution_count": null,
      "outputs": []
    },
    {
      "cell_type": "code",
      "source": [
        "#@title Utils\n",
        "import os\n",
        "if 'COLAB_GPU' in os.environ:\n",
        "   base_path=\"/content\"\n",
        "os.chdir(f\"{base_path}/LivePortrait\")\n",
        "\n",
        "import os\n",
        "import subprocess\n",
        "import re\n",
        "import uuid\n",
        "import shutil\n",
        "def trim_video(input_file, save_folder, clip_duration=10, resolution=\"854x480\"):\n",
        "    # Ensure the save folder exists\n",
        "    if not os.path.exists(save_folder):\n",
        "        os.makedirs(save_folder)\n",
        "\n",
        "    # Get the total duration of the video in seconds\n",
        "    result = subprocess.run(\n",
        "        [\"ffprobe\", \"-v\", \"error\", \"-show_entries\", \"format=duration\", \"-of\", \"default=noprint_wrappers=1:nokey=1\", input_file],\n",
        "        stdout=subprocess.PIPE,\n",
        "        stderr=subprocess.STDOUT\n",
        "    )\n",
        "    total_duration = float(result.stdout)\n",
        "    start_time = 0\n",
        "    clip_number = 1\n",
        "\n",
        "    while start_time < total_duration:\n",
        "        output_file = os.path.join(save_folder, f\"{clip_number}.mp4\")\n",
        "        command = (\n",
        "            f\"ffmpeg -vsync 0 -hwaccel cuda -c:v h264_cuvid -ss {start_time} -i {input_file} -t {clip_duration} \"\n",
        "            f\"-vf scale={resolution} -c:v h264_nvenc -preset fast -b:v 5M -c:a copy {output_file} -y\"\n",
        "        )\n",
        "        os.system(command)\n",
        "        start_time += clip_duration\n",
        "        clip_number += 1\n",
        "\n",
        "def extract_number(filename):\n",
        "    match = re.search(r'(\\d+)', filename)\n",
        "    return int(match.group(1)) if match else 0\n",
        "\n",
        "def get_output_video(image_path,video_path):\n",
        "  #extract base name only\n",
        "  image_name=os.path.basename(image_path)\n",
        "  video_name=os.path.basename(video_path)\n",
        "  #only the filename without extention\n",
        "  image_name=os.path.splitext(image_name)[0]\n",
        "  video_name=os.path.splitext(video_name)[0]\n",
        "  video_path=f\"{image_name}--{video_name}.mp4\"\n",
        "  return video_path\n",
        "\n",
        "\n",
        "def concatenate_videos(list_file, reference_video_path):\n",
        "    video_name=os.path.basename(reference_video_path)\n",
        "    video_name=os.path.splitext(video_name)[0]\n",
        "    if not os.path.exists(f\"{base_path}/final_video\"):\n",
        "      os.makedirs(f\"{base_path}/final_video\")\n",
        "    random_uuid = uuid.uuid4()\n",
        "    vid_name = f\"{video_name}_LivePortrait_{str(random_uuid)[:6]}.mp4\"\n",
        "    output_path = f\"{base_path}/final_video/{vid_name}\"\n",
        "    # Run FFmpeg to concatenate videos using the list.txt file\n",
        "    ffmpeg_cmd=f\"ffmpeg -f concat -safe 0 -i {list_file} -c copy {output_path} -y\"\n",
        "    var=os.system(ffmpeg_cmd)\n",
        "    if var==0:\n",
        "      print(f\"Video saved at {output_path}\")\n",
        "      if os.path.exists(\"/content/gdrive/MyDrive/upload\"):\n",
        "        shutil.copy(output_path, f\"/content/gdrive/MyDrive/upload/{vid_name}\")\n",
        "        print(f\"Copied at drive '/content/gdrive/MyDrive/upload/{vid_name}'\")\n",
        "      return output_path\n",
        "    else:\n",
        "      print(\"error\")\n",
        "      return None\n",
        "\n",
        "\n",
        "def make_clips(image_path,reference_video_path):\n",
        "  if os.path.exists(f\"{base_path}/generated_clips\"):\n",
        "    shutil.rmtree(f\"{base_path}/generated_clips\")\n",
        "  if os.path.exists(f\"{base_path}/input_video_clips\"):\n",
        "    shutil.rmtree(f\"{base_path}/input_video_clips\")\n",
        "  if os.path.exists(f\"{base_path}/video_clips\"):\n",
        "    shutil.rmtree(f\"{base_path}/video_clips\")\n",
        "  os.makedirs(f\"{base_path}/video_clips\")\n",
        "  save_folder = f\"{base_path}/generated_clips\"\n",
        "  trim_video(reference_video_path, f\"{base_path}/input_video_clips\")\n",
        "  file_list = os.listdir(f\"{base_path}/input_video_clips\")\n",
        "  sorted_file_list = sorted(file_list, key=extract_number)\n",
        "  for i in sorted_file_list:\n",
        "    video_path=f\"{base_path}/input_video_clips/{i}\"\n",
        "    if os.getcwd() != f\"{base_path}/LivePortrait\":\n",
        "      os.chdir(f\"{base_path}/LivePortrait\")\n",
        "    command=f\"python inference.py -s {image_path} -d {video_path}  -o {save_folder} --flag_crop_driving_video\"\n",
        "    var=os.system(command)\n",
        "    if var==0:\n",
        "      print(f\"{base_path}/generated_clips/{i}\")\n",
        "      result_video=get_output_video(image_path,video_path)\n",
        "      shutil.copy(f\"{base_path}/generated_clips/{result_video}\",f\"{base_path}/video_clips/{i}\")\n",
        "      print(f\"copied {base_path}/generated_clips/{result_video}\")\n",
        "    else:\n",
        "      print(f\"error in {i}\")\n",
        "  sorted_video_list = sorted(os.listdir(f\"{base_path}/video_clips\"), key=extract_number)\n",
        "  with open(f\"{base_path}/join.txt\", 'w') as f:\n",
        "    for i in sorted_video_list:\n",
        "      f.write(f\"file '{base_path}/video_clips/{i}'\\n\")\n",
        "  final_video_name=concatenate_videos(f\"{base_path}/join.txt\", reference_video_path)\n",
        "  return final_video_name\n",
        "\n"
      ],
      "metadata": {
        "cellView": "form",
        "id": "4MTG4niwBlez"
      },
      "execution_count": null,
      "outputs": []
    },
    {
      "cell_type": "code",
      "source": [
        "# @title ##**Choose option** { display-mode: \"form\" }\n",
        "choose= \"already_uploaded\"#@param ['upload_now','already_uploaded']\n",
        "import os\n",
        "\n",
        "folder_path = \"/content/gdrive/MyDrive/upload\"\n",
        "\n",
        "# Check if the folder exists\n",
        "if not os.path.exists(folder_path):\n",
        "    # If it doesn't exist, create it\n",
        "    os.makedirs(folder_path)\n",
        "    print(f\"Folder '{folder_path}' created successfully.\")\n",
        "else:\n",
        "    print(f\"Folder '{folder_path}' already exists.\")\n",
        "\n",
        "%cd /content/gdrive/MyDrive/upload\n",
        "from IPython.display import clear_output\n",
        "clear_output()\n",
        "f_names=[]\n",
        "from google.colab import files\n",
        "if choose== \"upload_now\":\n",
        "  uploaded = files.upload()\n",
        "  for fn in uploaded.keys():\n",
        "        f_names.append(fn)\n",
        "  clear_output()\n",
        "\n",
        "video_id=1\n",
        "table={}\n",
        "ids=[]\n",
        "videos=[]\n",
        "id_monitor={}\n",
        "video_folder=\"/content/gdrive/MyDrive/upload\"\n",
        "for i in os.listdir(video_folder):\n",
        "  ids.append(video_id)\n",
        "  videos.append(i)\n",
        "  id_monitor[video_id]=i\n",
        "  video_id=video_id+1\n",
        "table[\"file_name\"]=videos\n",
        "table[\"file_id\"]=ids\n",
        "import pandas as pd\n",
        "df = pd.DataFrame(table)\n",
        "try:\n",
        "  df.set_index('file_id', inplace=True)\n",
        "except:\n",
        "  pass\n",
        "print(df)\n",
        "print(\"\\n\")\n"
      ],
      "metadata": {
        "colab": {
          "base_uri": "https://localhost:8080/"
        },
        "id": "UEqHgvCcuMB0",
        "outputId": "b63889a6-f820-41e3-d45f-2a97cb54039d"
      },
      "execution_count": null,
      "outputs": [
        {
          "output_type": "stream",
          "name": "stdout",
          "text": [
            "               file_name\n",
            "file_id                 \n",
            "1        jio_ALTERED.mp4\n",
            "2              king.jpeg\n",
            "\n",
            "\n"
          ]
        }
      ]
    },
    {
      "cell_type": "code",
      "source": [
        "# @title Enter input Image ID\n",
        "image_path=\"\"\n",
        "if choose== \"already_uploaded\":\n",
        "  image_id =   1#@param {type: \"number\"}\n",
        "  input_image_path=\"/content/gdrive/MyDrive/upload/\"+id_monitor[int(image_id)]\n",
        "input_image_path"
      ],
      "metadata": {
        "colab": {
          "base_uri": "https://localhost:8080/",
          "height": 35
        },
        "cellView": "form",
        "id": "9T7FHHarvAyz",
        "outputId": "88f41904-dc6c-433f-924d-5d22d261a89f"
      },
      "execution_count": null,
      "outputs": [
        {
          "output_type": "execute_result",
          "data": {
            "text/plain": [
              "'/content/gdrive/MyDrive/upload/jio_ALTERED.mp4'"
            ],
            "application/vnd.google.colaboratory.intrinsic+json": {
              "type": "string"
            }
          },
          "metadata": {},
          "execution_count": 3
        }
      ]
    },
    {
      "cell_type": "code",
      "source": [
        "# @title Enter input video ID\n",
        "video_path=\"\"\n",
        "if choose== \"already_uploaded\":\n",
        "  video_id =   2#@param {type: \"number\"}\n",
        "  input_video_path=\"/content/gdrive/MyDrive/upload/\"+id_monitor[int(video_id)]\n",
        "input_video_path"
      ],
      "metadata": {
        "colab": {
          "base_uri": "https://localhost:8080/",
          "height": 35
        },
        "cellView": "form",
        "id": "ZlsIfMlYz40u",
        "outputId": "073c65f2-0e0a-4f3d-ec31-57800c7a8e2d"
      },
      "execution_count": null,
      "outputs": [
        {
          "output_type": "execute_result",
          "data": {
            "text/plain": [
              "'/content/gdrive/MyDrive/upload/king.jpeg'"
            ],
            "application/vnd.google.colaboratory.intrinsic+json": {
              "type": "string"
            }
          },
          "metadata": {},
          "execution_count": 4
        }
      ]
    },
    {
      "cell_type": "code",
      "source": [
        "Image_Path= '/content/gdrive/MyDrive/upload/king.jpeg'  # @param {type: \"string\"}\n",
        "Reference_Video_Path = '/content/gdrive/MyDrive/upload/jio_ALTERED.mp4'  # @param {type: \"string\"}\n",
        "\n",
        "save_video_path=make_clips(Image_Path,Reference_Video_Path)\n",
        "from IPython.display import clear_output\n",
        "clear_output()\n",
        "from google.colab import files\n",
        "print(f\"File save at {save_video_path}\")\n",
        "files.download(save_video_path)"
      ],
      "metadata": {
        "colab": {
          "base_uri": "https://localhost:8080/"
        },
        "cellView": "form",
        "id": "pqpYH8GJzGk_",
        "outputId": "26c7a887-d0e7-4c60-ca4f-07815007e9e1"
      },
      "execution_count": null,
      "outputs": [
        {
          "output_type": "stream",
          "name": "stdout",
          "text": [
            "/content/generated_clips/1.mp4\n",
            "copied /content/generated_clips/king--1.mp4\n",
            "/content/generated_clips/2.mp4\n",
            "copied /content/generated_clips/king--2.mp4\n",
            "/content/generated_clips/3.mp4\n",
            "copied /content/generated_clips/king--3.mp4\n",
            "error in 4.mp4\n",
            "error in 5.mp4\n",
            "error in 6.mp4\n",
            "error in 7.mp4\n",
            "error in 8.mp4\n",
            "/content/generated_clips/9.mp4\n",
            "copied /content/generated_clips/king--9.mp4\n",
            "/content/generated_clips/10.mp4\n",
            "copied /content/generated_clips/king--10.mp4\n",
            "/content/generated_clips/11.mp4\n",
            "copied /content/generated_clips/king--11.mp4\n",
            "/content/generated_clips/12.mp4\n",
            "copied /content/generated_clips/king--12.mp4\n",
            "/content/generated_clips/13.mp4\n",
            "copied /content/generated_clips/king--13.mp4\n",
            "/content/generated_clips/14.mp4\n",
            "copied /content/generated_clips/king--14.mp4\n",
            "/content/generated_clips/15.mp4\n",
            "copied /content/generated_clips/king--15.mp4\n",
            "/content/generated_clips/16.mp4\n",
            "copied /content/generated_clips/king--16.mp4\n",
            "/content/generated_clips/17.mp4\n",
            "copied /content/generated_clips/king--17.mp4\n",
            "/content/generated_clips/18.mp4\n",
            "copied /content/generated_clips/king--18.mp4\n",
            "/content/generated_clips/19.mp4\n",
            "copied /content/generated_clips/king--19.mp4\n",
            "/content/generated_clips/20.mp4\n",
            "copied /content/generated_clips/king--20.mp4\n",
            "/content/generated_clips/21.mp4\n",
            "copied /content/generated_clips/king--21.mp4\n",
            "/content/generated_clips/22.mp4\n",
            "copied /content/generated_clips/king--22.mp4\n",
            "/content/generated_clips/23.mp4\n",
            "copied /content/generated_clips/king--23.mp4\n",
            "/content/generated_clips/24.mp4\n",
            "copied /content/generated_clips/king--24.mp4\n",
            "/content/generated_clips/25.mp4\n",
            "copied /content/generated_clips/king--25.mp4\n"
          ]
        }
      ]
    }
  ]
}